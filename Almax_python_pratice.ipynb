{
  "nbformat": 4,
  "nbformat_minor": 0,
  "metadata": {
    "colab": {
      "provenance": [],
      "authorship_tag": "ABX9TyMVXqVNz/NnIBVJ0qT1bs3e",
      "include_colab_link": true
    },
    "kernelspec": {
      "name": "python3",
      "display_name": "Python 3"
    },
    "language_info": {
      "name": "python"
    }
  },
  "cells": [
    {
      "cell_type": "markdown",
      "metadata": {
        "id": "view-in-github",
        "colab_type": "text"
      },
      "source": [
        "<a href=\"https://colab.research.google.com/github/Mohit03singh/ALMAX_PYTHON_COMPETITION/blob/main/Almax_python_pratice.ipynb\" target=\"_parent\"><img src=\"https://colab.research.google.com/assets/colab-badge.svg\" alt=\"Open In Colab\"/></a>"
      ]
    },
    {
      "cell_type": "markdown",
      "source": [
        "question 13"
      ],
      "metadata": {
        "id": "Q2A_-v4ZzdF7"
      }
    },
    {
      "cell_type": "code",
      "source": [
        "def plusOne(digits):\n",
        "    n = len(digits)\n",
        "    for i in range(n):\n",
        "        idx = n - 1 - i\n",
        "        if digits[idx]<9:\n",
        "            digits[idx]+=1\n",
        "            return digits\n",
        "        else:\n",
        "            digits[idx]=0\n",
        "    return[1]+digits\n",
        "\n",
        "digits = eval(input())\n",
        "\n",
        "# Display the result after adding one\n",
        "print(plusOne(digits))"
      ],
      "metadata": {
        "colab": {
          "base_uri": "https://localhost:8080/"
        },
        "id": "tVX6aOg28zXJ",
        "outputId": "3867d33c-d30c-4f0a-e216-2be0d957dab4"
      },
      "execution_count": null,
      "outputs": [
        {
          "output_type": "stream",
          "name": "stdout",
          "text": [
            "[1,2,3]\n",
            "[1, 2, 4]\n"
          ]
        }
      ]
    },
    {
      "cell_type": "code",
      "source": [
        "def titleToNumber(s):\n",
        "    # Initialize the result\n",
        "    result = 0\n",
        "    char_map={chr(i):i-64 for i in range(65,91)}\n",
        "    n = len(s)\n",
        "    for i in range(n):\n",
        "        pos=n-1-i\n",
        "        cur_pos=s[pos]\n",
        "        result +=char_map[cur_pos]*(26**i)\n",
        "    return result\n",
        "st = input()\n",
        "print(titleToNumber(st))"
      ],
      "metadata": {
        "colab": {
          "base_uri": "https://localhost:8080/"
        },
        "id": "poDN4GQH9C0o",
        "outputId": "63607c27-ad34-45fa-db9a-ef389b7790f9"
      },
      "execution_count": null,
      "outputs": [
        {
          "output_type": "stream",
          "name": "stdout",
          "text": [
            "ZY\n",
            "701\n"
          ]
        }
      ]
    },
    {
      "cell_type": "code",
      "source": [
        "def isHappy(n):\n",
        "    # Function to calculate the sum of squares of digits\n",
        "    def get_next(number):\n",
        "        total_sum=0\n",
        "        while number>0:\n",
        "            digit=number%10\n",
        "            total_sum += digit * digit\n",
        "            number//=10\n",
        "        return total_sum\n",
        "    seen = set()\n",
        "    while n != 1 and n not in seen:\n",
        "\n",
        "        seen.add(n)\n",
        "        n=get_next(n)\n",
        "    return n == 1\n",
        "n = int(input())\n",
        "print(isHappy(n))"
      ],
      "metadata": {
        "colab": {
          "base_uri": "https://localhost:8080/"
        },
        "id": "tmF7zR1K9VOT",
        "outputId": "9636d868-7497-471e-a69a-5e334f1c4676"
      },
      "execution_count": null,
      "outputs": [
        {
          "output_type": "stream",
          "name": "stdout",
          "text": [
            "19\n",
            "True\n"
          ]
        }
      ]
    },
    {
      "cell_type": "code",
      "source": [
        "def isPowerOfTwo(n):\n",
        "    if n == 0:\n",
        "        return False\n",
        "    return n & (-n) == n\n",
        "\n",
        "# Prompt for user input\n",
        "n = int(input())\n",
        "if isPowerOfTwo(n):\n",
        "    print('True')\n",
        "else:\n",
        "    print('False')"
      ],
      "metadata": {
        "colab": {
          "base_uri": "https://localhost:8080/"
        },
        "id": "nSXocV5g9mE-",
        "outputId": "cb74fc24-6aa6-4b79-82b0-cb5e9c41ac96"
      },
      "execution_count": null,
      "outputs": [
        {
          "output_type": "stream",
          "name": "stdout",
          "text": [
            "1\n",
            "True\n"
          ]
        }
      ]
    },
    {
      "cell_type": "code",
      "source": [
        "def buildArray(nums):\n",
        "    n=len(nums)\n",
        "    ans=[0]*n\n",
        "\n",
        "    for i in range(n):\n",
        "        ans[i]=nums[nums[i]]\n",
        "\n",
        "    return ans\n",
        "lst = eval(input())\n",
        "print(buildArray(lst))"
      ],
      "metadata": {
        "colab": {
          "base_uri": "https://localhost:8080/"
        },
        "id": "Pj7TPGjT9vbb",
        "outputId": "f201a426-6d2b-4920-b2be-774279384338"
      },
      "execution_count": null,
      "outputs": [
        {
          "output_type": "stream",
          "name": "stdout",
          "text": [
            "[0,2,1,5,3,4]\n",
            "[0, 1, 2, 4, 5, 3]\n"
          ]
        }
      ]
    },
    {
      "cell_type": "code",
      "source": [
        "def getConcatenation(nums):\n",
        "    concatenated=nums+nums\n",
        "    return concatenated\n",
        "\n",
        "lst = eval(input())\n",
        "print(getConcatenation(lst))"
      ],
      "metadata": {
        "colab": {
          "base_uri": "https://localhost:8080/"
        },
        "id": "V9DC1byk92oX",
        "outputId": "54db14cf-7780-4c78-d3fd-89848143e277"
      },
      "execution_count": null,
      "outputs": [
        {
          "output_type": "stream",
          "name": "stdout",
          "text": [
            "[1,2,1]\n",
            "[1, 2, 1, 1, 2, 1]\n"
          ]
        }
      ]
    },
    {
      "cell_type": "code",
      "source": [
        "def numIdenticalPairs(nums):\n",
        "    # Initialize the count of good pairs\n",
        "    ans = 0\n",
        "\n",
        "    n=len(nums)\n",
        "    for i in range(n):\n",
        "        for j in range(i+1,n):\n",
        "            if nums[i]==nums[j] and i<j:\n",
        "              ans+=1\n",
        "    return ans\n",
        "lst = eval(input())\n",
        "print(numIdenticalPairs(lst))"
      ],
      "metadata": {
        "colab": {
          "base_uri": "https://localhost:8080/"
        },
        "id": "5bFVrbSd9-DP",
        "outputId": "14d587f8-8c22-40b3-f8e9-90e1aafd99a9"
      },
      "execution_count": null,
      "outputs": [
        {
          "output_type": "stream",
          "name": "stdout",
          "text": [
            "[1,2,3,1,1,3]\n",
            "4\n"
          ]
        }
      ]
    },
    {
      "cell_type": "code",
      "source": [
        "def shuffle(nums, n):\n",
        "    result = [0] * (2 * n)\n",
        "    for i in range(n):\n",
        "        result[2*i]=nums[i]\n",
        "        result[2*i+1]=nums[n+i]\n",
        "    return result\n",
        "\n",
        "lst = eval(input())\n",
        "nm = int(input())\n",
        "\n",
        "print(shuffle(lst, nm))\n"
      ],
      "metadata": {
        "colab": {
          "base_uri": "https://localhost:8080/"
        },
        "id": "z0UyZwZr-Gws",
        "outputId": "207c3477-1f3b-40eb-d041-bc039f07bd77"
      },
      "execution_count": null,
      "outputs": [
        {
          "output_type": "stream",
          "name": "stdout",
          "text": [
            "[2,5,1,3,4,7]\n",
            "3\n",
            "[2, 3, 5, 4, 1, 7]\n"
          ]
        }
      ]
    },
    {
      "cell_type": "code",
      "source": [
        "def numberOfEmployeesWhoMetTarget(hours, target):\n",
        "    # Initialize the count of employees meeting the target\n",
        "    count = 0\n",
        "    for hour in hours:\n",
        "        if hour>=target:\n",
        "            count+=1\n",
        "    return count\n",
        "hours = eval(input())\n",
        "\n",
        "# Prompt for the target hours\n",
        "t = int(input())\n",
        "print(numberOfEmployeesWhoMetTarget(hours, t))\n"
      ],
      "metadata": {
        "colab": {
          "base_uri": "https://localhost:8080/"
        },
        "id": "0naBJ_M6-TCR",
        "outputId": "d58306c0-4da4-48ff-d00d-5826c03bc9ba"
      },
      "execution_count": null,
      "outputs": [
        {
          "output_type": "stream",
          "name": "stdout",
          "text": [
            "[0,1,2,3,4]\n",
            "2\n",
            "3\n"
          ]
        }
      ]
    },
    {
      "cell_type": "code",
      "source": [
        "def maximumWealth(accounts):\n",
        "    max_wealth_so_far = 0\n",
        "    for account in accounts:\n",
        "        curr_customer_wealth=sum(account)\n",
        "        if curr_customer_wealth>max_wealth_so_far:\n",
        "            max_wealth_so_far=curr_customer_wealth\n",
        "    return max_wealth_so_far\n",
        "ac = eval(input())\n",
        "\n",
        "# Display the maximum wealth among all customers\n",
        "print(maximumWealth(ac))"
      ],
      "metadata": {
        "colab": {
          "base_uri": "https://localhost:8080/"
        },
        "id": "EoknGA3r-c6L",
        "outputId": "86c9684a-670b-47f2-c8df-95fba7101e8f"
      },
      "execution_count": null,
      "outputs": [
        {
          "output_type": "stream",
          "name": "stdout",
          "text": [
            "[[1,2,3],[3,2,1]]\n",
            "6\n"
          ]
        }
      ]
    },
    {
      "cell_type": "code",
      "source": [
        "def kidsWithCandies(candies, extraCandies):\n",
        "    maxCandies = max(candies)\n",
        "    result = []\n",
        "    for candy in candies:\n",
        "        result.append(candy+extraCandies>=maxCandies)\n",
        "    return result\n",
        "cand = eval(input())\n",
        "ec = int(input())\n",
        "\n",
        "# Display the result indicating which kids can have the greatest number o candies\n",
        "print(kidsWithCandies(cand, ec))"
      ],
      "metadata": {
        "colab": {
          "base_uri": "https://localhost:8080/"
        },
        "id": "13jU9Fyg-kn9",
        "outputId": "8c1a62d4-7382-477c-8bb6-c229897126b4"
      },
      "execution_count": null,
      "outputs": [
        {
          "output_type": "stream",
          "name": "stdout",
          "text": [
            "[2,3,5,1,3]\n",
            "3\n",
            "[True, True, True, False, True]\n"
          ]
        }
      ]
    },
    {
      "cell_type": "code",
      "source": [
        "def runningSum(nums):\n",
        "    for i in range(1,len(nums)):\n",
        "        nums[i] += nums[i - 1]\n",
        "    return nums\n",
        "lst = eval(input())\n",
        "print(runningSum(lst))\n"
      ],
      "metadata": {
        "colab": {
          "base_uri": "https://localhost:8080/"
        },
        "id": "frUjUMVb-waA",
        "outputId": "cad7fbf2-769b-48c5-b6e5-40ac688f22d3"
      },
      "execution_count": null,
      "outputs": [
        {
          "output_type": "stream",
          "name": "stdout",
          "text": [
            "[1,2,3,4]\n",
            "[1, 3, 6, 10]\n"
          ]
        }
      ]
    },
    {
      "cell_type": "code",
      "source": [
        "def smallerNumbersThanCurrent(nums):\n",
        "    sorted_nums=sorted(nums)\n",
        "    map1={}\n",
        "    for idx,num in enumerate(sorted_nums):\n",
        "        if num not in map1:\n",
        "            map1[num]=idx\n",
        "    result = []\n",
        "    result = [map1[num] for num in nums]\n",
        "    return result\n",
        "lst = eval(input())\n",
        "print(smallerNumbersThanCurrent(lst))"
      ],
      "metadata": {
        "colab": {
          "base_uri": "https://localhost:8080/"
        },
        "id": "dNvuM2AZ-4F1",
        "outputId": "41d8973e-ba90-4485-ab69-18d2d5229c8e"
      },
      "execution_count": null,
      "outputs": [
        {
          "output_type": "stream",
          "name": "stdout",
          "text": [
            "[8,1,2,2,3]\n",
            "[4, 0, 1, 1, 3]\n"
          ]
        }
      ]
    },
    {
      "cell_type": "code",
      "source": [
        "def Fibonacci(n):\n",
        "    if n <=0:\n",
        "        return \"Incorrect input\"\n",
        "    if n==1:\n",
        "        return 0\n",
        "    if n==2:\n",
        "        return 1\n",
        "    if n>2:\n",
        "        return Fibonacci(n-1)+Fibonacci(n-2)\n",
        "n=eval(input())\n",
        "print(Fibonacci(n))"
      ],
      "metadata": {
        "colab": {
          "base_uri": "https://localhost:8080/"
        },
        "id": "4p_PFFMQES2Y",
        "outputId": "e5adca85-4fe5-44ea-d78b-9972a47a7bf4"
      },
      "execution_count": null,
      "outputs": [
        {
          "output_type": "stream",
          "name": "stdout",
          "text": [
            "10\n",
            "34\n"
          ]
        }
      ]
    },
    {
      "cell_type": "code",
      "source": [
        "def finalValueAfterOperations(operations):\n",
        "    result = 0\n",
        "    for operation in operations:\n",
        "        if operation ==\"++X\" or operation ==\"X++\":\n",
        "            result+=1\n",
        "        else:\n",
        "            result-=1\n",
        "\n",
        "    return result\n",
        "l = eval(input())\n",
        "print(finalValueAfterOperations(l))"
      ],
      "metadata": {
        "colab": {
          "base_uri": "https://localhost:8080/"
        },
        "id": "QiNMakpXEV-Y",
        "outputId": "df2cac95-3b2e-4ad4-d66d-bc4cae36a51b"
      },
      "execution_count": null,
      "outputs": [
        {
          "output_type": "stream",
          "name": "stdout",
          "text": [
            "[\"--X\",\"X++\",\"X++\"]\n",
            "1\n"
          ]
        }
      ]
    },
    {
      "cell_type": "code",
      "source": [
        "# Function to calculate the factorial of a number\n",
        "def calculate_factorial():\n",
        "    num = int(input())\n",
        "    factorial = 1\n",
        "    if num <0:\n",
        "        print(\"Factorial can't be calculated for negative number\")\n",
        "    elif num ==0:\n",
        "        print(\"Factorial of 0 is 1\")\n",
        "    else:\n",
        "        for i in range(1,num+1):\n",
        "            factorial*=i\n",
        "        print(\"Factorial of\", num, \"is\", factorial)\n",
        "\n",
        "# Main function\n",
        "calculate_factorial()"
      ],
      "metadata": {
        "colab": {
          "base_uri": "https://localhost:8080/"
        },
        "id": "o0ASICGyEYqk",
        "outputId": "f66ec2be-e68b-4c61-9721-68e05331fbbb"
      },
      "execution_count": null,
      "outputs": [
        {
          "output_type": "stream",
          "name": "stdout",
          "text": [
            "5\n",
            "Factorial of 5 is 120\n"
          ]
        }
      ]
    },
    {
      "cell_type": "code",
      "source": [
        "# Function to check if a number is an Armstrong number\n",
        "def check_armstrong_number():\n",
        "    number = int(input())\n",
        "    temp=number\n",
        "    i=0\n",
        "    while number >0:\n",
        "        number//=10\n",
        "        i+=1\n",
        "\n",
        "    number=temp\n",
        "    result=0\n",
        "    while number > 0:\n",
        "        digit = number % 10\n",
        "        result += digit ** i\n",
        "        number //= 10\n",
        "\n",
        "    if temp ==result:\n",
        "        print(\"Number is Armstrong\")\n",
        "    else:\n",
        "        print(\"Number is not Armstrong\")\n",
        "\n",
        "# Call the check_armstrong_number function\n",
        "check_armstrong_number()"
      ],
      "metadata": {
        "colab": {
          "base_uri": "https://localhost:8080/"
        },
        "id": "BFC1FrdREbVc",
        "outputId": "ae4a00d5-6e34-40ac-e1c8-12d152a4cf71"
      },
      "execution_count": null,
      "outputs": [
        {
          "output_type": "stream",
          "name": "stdout",
          "text": [
            "153\n",
            "Number is Armstrong\n"
          ]
        }
      ]
    },
    {
      "cell_type": "code",
      "source": [
        "def isPalindrome(x):\n",
        "    if x <0:\n",
        "        return False\n",
        "    reversed_num = 0\n",
        "    temp = x\n",
        "    while temp>0:\n",
        "        digit =temp%10\n",
        "        reversed_num=reversed_num *10+digit\n",
        "        temp//=10\n",
        "    return x==reversed_num\n",
        "\n",
        "# Prompt for user input\n",
        "num = int(input())\n",
        "print(isPalindrome(num))\n"
      ],
      "metadata": {
        "colab": {
          "base_uri": "https://localhost:8080/"
        },
        "id": "EFaFWVwHEek6",
        "outputId": "7b8da627-a3b6-427f-f0ad-da34d8019eba"
      },
      "execution_count": null,
      "outputs": [
        {
          "output_type": "stream",
          "name": "stdout",
          "text": [
            "121\n",
            "True\n"
          ]
        }
      ]
    },
    {
      "cell_type": "code",
      "source": [
        "def prime(x, y):\n",
        "    prime_list = []\n",
        "    for i in range(x, y):\n",
        "        if i == 0 or i == 1:\n",
        "            continue\n",
        "        is_prime=True\n",
        "        for j in range(2,int(0.5*i)+1):\n",
        "            if i % j ==0:\n",
        "                is_prime=False\n",
        "                break\n",
        "        if is_prime:\n",
        "            prime_list.append(i)\n",
        "\n",
        "    return prime_list\n",
        "starting_range = int(input())\n",
        "ending_range = int(input())\n",
        "lst = prime(starting_range, ending_range)\n",
        "if len(lst) == 0:\n",
        "    print(\"There are no prime numbers in this range\")\n",
        "else:\n",
        "    print(\"The prime numbers in this range are:\", lst)"
      ],
      "metadata": {
        "colab": {
          "base_uri": "https://localhost:8080/"
        },
        "id": "Jt65hD6oFQqP",
        "outputId": "178b5472-52c9-41d5-a64f-89985042b784"
      },
      "execution_count": null,
      "outputs": [
        {
          "output_type": "stream",
          "name": "stdout",
          "text": [
            "2\n",
            "7\n",
            "The prime numbers in this range are: [2, 3, 5]\n"
          ]
        }
      ]
    },
    {
      "cell_type": "code",
      "source": [
        "def generate(num_rows):\n",
        "    # Initialize the triangle list\n",
        "    triangle = []\n",
        "    for row_num in range(num_rows):\n",
        "        row = [None for _ in range(row_num + 1)]\n",
        "        row[0] = row[-1] = 1\n",
        "        for j in range(1, len(row) - 1):\n",
        "            row[j] = triangle[row_num - 1][j - 1] + triangle[row_num - 1][j]\n",
        "        triangle.append(row)\n",
        "    return triangle\n",
        "rows = int(input())\n",
        "result = generate(rows)\n",
        "# Display the generated Pascal's Triangle\n",
        "print(result)\n"
      ],
      "metadata": {
        "colab": {
          "base_uri": "https://localhost:8080/"
        },
        "id": "QC50Zwd2FUQG",
        "outputId": "ac56cb4b-dea5-418d-9c06-20258c25b2fd"
      },
      "execution_count": null,
      "outputs": [
        {
          "output_type": "stream",
          "name": "stdout",
          "text": [
            "5\n",
            "[[1], [1, 1], [1, 2, 1], [1, 3, 3, 1], [1, 4, 6, 4, 1]]\n"
          ]
        }
      ]
    },
    {
      "cell_type": "markdown",
      "source": [
        "###1. Excel Sheet Column Number\n",
        "Medium\n",
        "Given a string columnTitle that represents the column title as appears in an Excel sheet, return its corresponding column number.\n",
        "\n",
        "John, a data analyst, was tasked with analyzing sales data and representing it in an Excel sheet. He decided to use alphabets as column titles. While assigning column numbers, he got stuck after column 26 and named it \"Z\". He then named the 27th column \"AB\" as the combination of alphabets.\n",
        "\n",
        "Can you help John write a function to return the corresponding column number when a columnTitle is given?\n",
        "\n",
        "\n",
        "A -> 1\n",
        "B -> 2\n",
        "C -> 3\n",
        "...\n",
        "Z -> 26\n",
        "AA -> 27\n",
        "AB -> 28\n",
        "...\n",
        "\n",
        "Example 1:\n",
        "Input:\n",
        "A\n",
        "\n",
        "Output:\n",
        "1\n",
        "\n",
        "Example 2:\n",
        "Input:\n",
        "ZY\n",
        "\n",
        "Output:\n",
        "701\n",
        "\n",
        "Constraints:\n",
        "- 1 <= columnTitle.length <= 7\n",
        "- columnTitle consists only of uppercase English letters.\n",
        "- columnTitle is in the range [\"A\", \"FXSHRXW\"]\n",
        "All quest"
      ],
      "metadata": {
        "id": "iunH8I_FzB7X"
      }
    },
    {
      "cell_type": "code",
      "execution_count": null,
      "metadata": {
        "id": "cs9WiSAFyiIY"
      },
      "outputs": [],
      "source": [
        "def titleToNumber(s):\n",
        "    # Initialize the result\n",
        "    result = 0\n",
        "\n",
        "    # Calculate the length of the string\n",
        "    n = len(s)\n",
        "\n",
        "    # Iterate over each character and update the result\n",
        "    for i in range(n):\n",
        "        # Get the character at index i\n",
        "        char = s[i]\n",
        "        # Calculate the numeric value of the character\n",
        "        num_value = ord(char) - ord('A') + 1\n",
        "        # Update the result\n",
        "        result = result * 26 + num_value\n",
        "\n",
        "    # Return the final result\n",
        "    return result\n",
        "\n",
        "# Prompt for user input\n",
        "st = input(\"Enter the column title: \")\n",
        "\n",
        "# Call the function and display the result\n",
        "print(titleToNumber(st))\n"
      ]
    },
    {
      "cell_type": "code",
      "source": [
        "def titleToNumber(s):\n",
        "    # Initialization\n",
        "    result = 0\n",
        "    alpha_map = {chr(i): i - 64 for i in range(65, 91)}  # Mapping A=1, B=2, ..., Z=26\n",
        "\n",
        "    # Calculate the length of the string\n",
        "    n = len(s)\n",
        "\n",
        "    # Iterate over each character in reverse\n",
        "    for i in range(n):\n",
        "        # Calculate the position of the character from the end\n",
        "        pos = n - 1 - i\n",
        "        # Retrieve the current character\n",
        "        cur_char = s[pos]\n",
        "        # Increment result\n",
        "        result += alpha_map[cur_char] * (26 ** i)\n",
        "\n",
        "    # Return the final result\n",
        "    return result\n",
        "\n",
        "# Prompt for user input\n",
        "st = input(\"Enter the column title: \")\n",
        "\n",
        "# Call the function and display the result\n",
        "print(titleToNumber(st))\n"
      ],
      "metadata": {
        "id": "uRxq76Jpy5iD"
      },
      "execution_count": null,
      "outputs": []
    },
    {
      "cell_type": "code",
      "source": [
        "def prime(x, y):\n",
        "    prime_list = []\n",
        "    for i in range(x, y):\n",
        "        if i == 0 or i == 1:\n",
        "            continue\n",
        "        else:\n",
        "            # Check if the number is prime\n",
        "            # write your code here\n",
        "            is_prime=True\n",
        "            for j in range(2,int(i/2)+1):\n",
        "                if i % j ==0:\n",
        "                    is_prime=False\n",
        "                break\n",
        "            if is_prime:\n",
        "                prime_list.append(i)\n",
        "\n",
        "    return prime_list\n",
        "\n",
        "# Driver program\n",
        "x = int(input())\n",
        "y = int(input())\n",
        "lst = prime(x, y)\n",
        "if len(lst) == 0:\n",
        "    print(\"There are no prime numbers in this range\")\n",
        "else:\n",
        "    print(\"The prime numbers in this range are:\", lst)\n"
      ],
      "metadata": {
        "colab": {
          "base_uri": "https://localhost:8080/"
        },
        "id": "YtCd-6TYBh2M",
        "outputId": "689c96ab-10fe-4e00-a6da-9f399e174c3f"
      },
      "execution_count": null,
      "outputs": [
        {
          "output_type": "stream",
          "name": "stdout",
          "text": [
            "2\n",
            "11\n",
            "The prime numbers in this range are: [2, 3, 5, 7, 9]\n"
          ]
        }
      ]
    },
    {
      "cell_type": "code",
      "source": [
        "def prime(x, y):\n",
        "    prime_list = []\n",
        "    for i in range(x, y):\n",
        "        if i == 0 or i == 1:\n",
        "            continue\n",
        "        else:\n",
        "            # Check if the number is prime\n",
        "            # write your code here\n",
        "            is_prime=True\n",
        "            for j in range(2,int(i/2)+1):\n",
        "              if i%j==0:\n",
        "                is_prime=False\n",
        "              break\n",
        "              prime_list.append(i)\n",
        "\n",
        "    return prime_list\n",
        "\n",
        "# Driver program\n",
        "starting_range = int(input(\"Enter the starting range: \"))\n",
        "ending_range = int(input(\"Enter the ending range: \"))\n",
        "lst = prime(starting_range, ending_range)\n",
        "if len(lst) == 0:\n",
        "    print(\"There are no prime numbers in this range\")\n",
        "else:\n",
        "    print(\"The prime numbers in this range are:\", lst)\n"
      ],
      "metadata": {
        "colab": {
          "base_uri": "https://localhost:8080/"
        },
        "id": "F_huo2RaC9b0",
        "outputId": "797abf5d-842d-4dd1-88f6-34735ce7cdf8"
      },
      "execution_count": null,
      "outputs": [
        {
          "output_type": "stream",
          "name": "stdout",
          "text": [
            "Enter the starting range: 2\n",
            "Enter the ending range: 7\n",
            "There are no prime numbers in this range\n"
          ]
        }
      ]
    },
    {
      "cell_type": "code",
      "source": [
        "def prime(x, y):\n",
        "    prime_list = []\n",
        "    for i in range(x, y):\n",
        "        if i == 0 or i == 1:\n",
        "            continue\n",
        "        else:\n",
        "            # Check if the number is prime\n",
        "            is_prime = True\n",
        "            for j in range(2, int(i / 2) + 1):\n",
        "                if i % j == 0:\n",
        "                    is_prime = False\n",
        "                    break\n",
        "            if is_prime:\n",
        "                prime_list.append(i)\n",
        "\n",
        "    return prime_list\n",
        "\n",
        "# Driver program\n",
        "starting_range = int(input(\"Enter the starting range: \"))\n",
        "ending_range = int(input(\"Enter the ending range: \"))\n",
        "lst = prime(starting_range, ending_range)\n",
        "if len(lst) == 0:\n",
        "    print(\"There are no prime numbers in this range\")\n",
        "else:\n",
        "    print(\"The prime numbers in this range are:\", lst)\n"
      ],
      "metadata": {
        "colab": {
          "base_uri": "https://localhost:8080/"
        },
        "id": "xyA_KWmbDEol",
        "outputId": "102e95e0-ff24-43fc-c47c-82ba514059cf"
      },
      "execution_count": null,
      "outputs": [
        {
          "output_type": "stream",
          "name": "stdout",
          "text": [
            "Enter the starting range: 2\n",
            "Enter the ending range: 7\n",
            "The prime numbers in this range are: [2, 3, 5]\n"
          ]
        }
      ]
    },
    {
      "cell_type": "code",
      "source": [
        "def isHappy(n):\n",
        "    # Function to calculate the sum of squares of digits\n",
        "    def get_next(number):\n",
        "        # Calculate the sum of the squares of the digits\n",
        "        # write your code here\n",
        "        total_sum=0\n",
        "        while number>0:\n",
        "            digit=number%10\n",
        "            total_sum=digit**2\n",
        "            number//=10\n",
        "        return total_sum\n",
        "\n",
        "    # Track the numbers we've seen\n",
        "    seen = set()\n",
        "\n",
        "    # Loop to determine if the number is happy\n",
        "    while n != 1 and n not in seen:\n",
        "        # Add the number to the set and calculate the next number\n",
        "        # write your code here\n",
        "        seen.add(n)\n",
        "        n=get_next(n)\n",
        "\n",
        "\n",
        "    # Return True if the number is happy, False otherwise\n",
        "    return n == 1\n",
        "\n",
        "# Prompt for user input\n",
        "n = int(input())\n",
        "\n",
        "# Display whether the number is happy or not\n",
        "if isHappy(n):\n",
        "    print(\"True\")\n",
        "else:\n",
        "    print(\"False\")\n",
        "\n"
      ],
      "metadata": {
        "id": "rDxXQO6BIPbm"
      },
      "execution_count": null,
      "outputs": []
    },
    {
      "cell_type": "code",
      "source": [
        "def isHappy(n):\n",
        "    # Helper function to calculate the sum of squares of digits\n",
        "    def get_next(number):\n",
        "        total_sum = 0\n",
        "        while number > 0:\n",
        "            digit = number % 10  # Get the last digit\n",
        "            total_sum += digit * digit  # Add square of the digit to total_sum\n",
        "            number //= 10  # Remove the last digit\n",
        "        return total_sum\n",
        "\n",
        "    # Track the numbers we've seen to detect cycles\n",
        "    seen = set()\n",
        "\n",
        "    # Loop to determine if the number is happy\n",
        "    while n != 1 and n not in seen:\n",
        "        seen.add(n)  # Add the current number to the set of seen numbers\n",
        "        n = get_next(n)  # Calculate the next number\n",
        "\n",
        "    # Return True if the number is happy (i.e., it reached 1), False otherwise\n",
        "    return n == 1\n",
        "\n",
        "# Prompt for user input\n",
        "n = int(input())\n",
        "\n",
        "# Display whether the number is happy or not\n",
        "print(isHappy(n))"
      ],
      "metadata": {
        "colab": {
          "base_uri": "https://localhost:8080/"
        },
        "id": "_MUz37TZKSZ3",
        "outputId": "d2bcfa84-173b-4922-f7c5-65c8674b525f"
      },
      "execution_count": null,
      "outputs": [
        {
          "output_type": "stream",
          "name": "stdout",
          "text": [
            "19\n",
            "True\n"
          ]
        }
      ]
    },
    {
      "cell_type": "code",
      "source": [
        "def prime(start, end):\n",
        "    prime_list = []\n",
        "    for num in range(start, end):\n",
        "        if num > 1:\n",
        "            is_prime = True\n",
        "            for i in range(2, int(num ** 0.5) + 1):\n",
        "                if num % i == 0:\n",
        "                    is_prime = False\n",
        "                    break\n",
        "            if is_prime:\n",
        "                prime_list.append(num)\n",
        "    return prime_list\n",
        "\n",
        "# Driver program\n",
        "starting_range = int(input(\"Enter the starting range: \"))\n",
        "ending_range = int(input(\"Enter the ending range: \"))\n",
        "lst = prime(starting_range, ending_range)\n",
        "if len(lst) == 0:\n",
        "    print(\"There are no prime numbers in this range\")\n",
        "else:\n",
        "    print(\"The prime numbers in this range are:\", lst)\n"
      ],
      "metadata": {
        "colab": {
          "base_uri": "https://localhost:8080/"
        },
        "id": "W4S-pWsVL4jM",
        "outputId": "fdbd6737-d066-4928-c644-8e47f540d944"
      },
      "execution_count": null,
      "outputs": [
        {
          "output_type": "stream",
          "name": "stdout",
          "text": [
            "Enter the starting range: 2\n",
            "Enter the ending range: 7\n",
            "The prime numbers in this range are: [2, 3, 5]\n"
          ]
        }
      ]
    },
    {
      "cell_type": "code",
      "source": [
        "def isValid(s):\n",
        "    # Define matching pairs for brackets\n",
        "    matching_bracket = {')': '(', '}': '{', ']': '['}\n",
        "    stack = []\n",
        "\n",
        "    # Process each character to check validity\n",
        "    for char in s:\n",
        "        if char in matching_bracket.values():\n",
        "            # If the character is an opening bracket, push it onto the stack\n",
        "            stack.append(char)\n",
        "        elif char in matching_bracket.keys():\n",
        "            # If the character is a closing bracket\n",
        "            if stack and stack[-1] == matching_bracket[char]:\n",
        "                # Pop the top of the stack if it matches the expected opening bracket\n",
        "                stack.pop()\n",
        "            else:\n",
        "                # If it doesn't match or stack is empty, return False\n",
        "                return False\n",
        "        else:\n",
        "            # If the character is not a bracket, ignore it\n",
        "            continue\n",
        "\n",
        "    # Return True if stack is empty, indicating valid string\n",
        "    return len(stack) == 0\n",
        "\n",
        "# Prompt for user input\n",
        "s = input(\"Enter a string of brackets: \")\n",
        "\n",
        "# Display if the string is valid or not\n",
        "print(\"The string is valid.\" if isValid(s) else \"The string is invalid.\")\n"
      ],
      "metadata": {
        "colab": {
          "base_uri": "https://localhost:8080/"
        },
        "id": "ATRTy-IUVSq4",
        "outputId": "7af164dd-2b2d-4624-9e5d-3ab5d5ad66a0"
      },
      "execution_count": 1,
      "outputs": [
        {
          "output_type": "stream",
          "name": "stdout",
          "text": [
            "Enter a string of brackets: ()\n",
            "The string is valid.\n"
          ]
        }
      ]
    },
    {
      "cell_type": "code",
      "source": [
        "word = \"testing\"\n",
        "length = len(word)\n",
        "pattern = [[' ']*length for _ in range(length)]\n",
        "\n",
        "for i in range(length):\n",
        "    pattern[i][i] = word[i]\n",
        "    pattern[i][length - i - 1] = word[i]\n",
        "\n",
        "for row in pattern:\n",
        "    print(' '.join(row))"
      ],
      "metadata": {
        "colab": {
          "base_uri": "https://localhost:8080/"
        },
        "id": "jSok4ZsDu-_m",
        "outputId": "bf17af94-f63b-4461-8520-7aef90dc9f60"
      },
      "execution_count": 2,
      "outputs": [
        {
          "output_type": "stream",
          "name": "stdout",
          "text": [
            "t           t\n",
            "  e       e  \n",
            "    s   s    \n",
            "      t      \n",
            "    i   i    \n",
            "  n       n  \n",
            "g           g\n"
          ]
        }
      ]
    },
    {
      "cell_type": "code",
      "source": [
        "def print_x_pattern(word):\n",
        "    for i in range(len(word)):\n",
        "        for j in range(len(word)):\n",
        "            if i == j or i + j == len(word) - 1:\n",
        "                print(word[j], end=\"\")\n",
        "            else:\n",
        "                print(\" \", end=\"\")\n",
        "        print()\n",
        "\n",
        "print_x_pattern(\"testing\")"
      ],
      "metadata": {
        "colab": {
          "base_uri": "https://localhost:8080/"
        },
        "id": "bdvh3_XRvGBP",
        "outputId": "45dc21ea-2337-4eb9-a523-71fc19c20bb8"
      },
      "execution_count": 4,
      "outputs": [
        {
          "output_type": "stream",
          "name": "stdout",
          "text": [
            "t     g\n",
            " e   n \n",
            "  s i  \n",
            "   t   \n",
            "  s i  \n",
            " e   n \n",
            "t     g\n"
          ]
        }
      ]
    },
    {
      "cell_type": "code",
      "source": [
        "def print_cross_pattern(size):\n",
        "    for i in range(size):\n",
        "        for j in range(size):\n",
        "            if i == j or i + j == size - 1:\n",
        "                print('*', end='')\n",
        "            else:\n",
        "                print(' ', end='')\n",
        "        print()  # Move to the next line after each row\n",
        "\n",
        "# User Input and Output\n",
        "size = int(input())\n",
        "\n",
        "# Call the function to draw the cross pattern\n",
        "print_cross_pattern(size)\n"
      ],
      "metadata": {
        "colab": {
          "base_uri": "https://localhost:8080/"
        },
        "id": "k7PZ9UOpwHR8",
        "outputId": "b21f4856-24c1-4122-bca0-79ca4c6a6ed1"
      },
      "execution_count": 6,
      "outputs": [
        {
          "output_type": "stream",
          "name": "stdout",
          "text": [
            "5\n",
            "*   *\n",
            " * * \n",
            "  *  \n",
            " * * \n",
            "*   *\n"
          ]
        }
      ]
    },
    {
      "cell_type": "code",
      "source": [
        "def print_triangle_pattern(n):\n",
        "    for i in range(n):\n",
        "        for j in range(n - i, 0, -1):\n",
        "            if i % 2 == 0:\n",
        "                print('1', end='')\n",
        "            else:\n",
        "                print('0', end='')\n",
        "        print()  # Move to the next line after each row\n",
        "\n",
        "# User Input and Output\n",
        "try:\n",
        "    n = int(input(\"Enter the size of the triangle pattern: \"))\n",
        "    if n <= 0:\n",
        "        raise ValueError(\"Size must be a positive integer.\")\n",
        "    print_triangle_pattern(n)\n",
        "except ValueError as ve:\n",
        "    print(\"Invalid input:\", ve)\n"
      ],
      "metadata": {
        "colab": {
          "base_uri": "https://localhost:8080/"
        },
        "id": "pC0gVgmnwHO0",
        "outputId": "aba9dd4c-5880-4611-f718-351dcc2b5295"
      },
      "execution_count": 7,
      "outputs": [
        {
          "output_type": "stream",
          "name": "stdout",
          "text": [
            "Enter the size of the triangle pattern: 5\n",
            "11111\n",
            "0000\n",
            "111\n",
            "00\n",
            "1\n"
          ]
        }
      ]
    },
    {
      "cell_type": "code",
      "source": [
        "s=\"Hello World\"\n",
        "s=s[6:]\n",
        "print(s)"
      ],
      "metadata": {
        "colab": {
          "base_uri": "https://localhost:8080/"
        },
        "id": "iAzoAK37NDQ5",
        "outputId": "1d47eeb2-87ad-43a3-f8e7-a17d0db994f6"
      },
      "execution_count": 5,
      "outputs": [
        {
          "output_type": "stream",
          "name": "stdout",
          "text": [
            "World\n"
          ]
        }
      ]
    }
  ]
}