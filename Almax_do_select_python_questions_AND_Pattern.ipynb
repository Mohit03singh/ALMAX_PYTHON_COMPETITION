{
  "nbformat": 4,
  "nbformat_minor": 0,
  "metadata": {
    "colab": {
      "provenance": [],
      "authorship_tag": "ABX9TyNoVmLQ7s/PFy1r7g1tOHBM",
      "include_colab_link": true
    },
    "kernelspec": {
      "name": "python3",
      "display_name": "Python 3"
    },
    "language_info": {
      "name": "python"
    }
  },
  "cells": [
    {
      "cell_type": "markdown",
      "metadata": {
        "id": "view-in-github",
        "colab_type": "text"
      },
      "source": [
        "<a href=\"https://colab.research.google.com/github/Mohit03singh/ALMAX_PYTHON_COMPETITION/blob/main/Almax_do_select_python_questions_AND_Pattern.ipynb\" target=\"_parent\"><img src=\"https://colab.research.google.com/assets/colab-badge.svg\" alt=\"Open In Colab\"/></a>"
      ]
    },
    {
      "cell_type": "markdown",
      "source": [
        "### PYTHON COMETITON 1"
      ],
      "metadata": {
        "id": "14BPK5CH1I9h"
      }
    },
    {
      "cell_type": "code",
      "execution_count": null,
      "metadata": {
        "colab": {
          "base_uri": "https://localhost:8080/"
        },
        "id": "ylGqNgPNgKEh",
        "outputId": "5358efd3-6e9a-444f-d964-a86eafa06307"
      },
      "outputs": [
        {
          "output_type": "stream",
          "name": "stdout",
          "text": [
            "[[1,2,3],[3,2,1]]\n",
            "6\n"
          ]
        }
      ],
      "source": [
        "accounts=eval(input())\n",
        "money=[]\n",
        "for i in accounts:\n",
        "  money.append(sum(i))\n",
        "print(max(money))\n"
      ]
    },
    {
      "cell_type": "code",
      "source": [
        "input_list=eval(input())\n",
        "non_zero=[]\n",
        "zeros=[]\n",
        "for i in input_list:\n",
        "  if i!=0:\n",
        "    non_zero.append(i)\n",
        "  else:\n",
        "    zeros.append(i)\n",
        "print(non_zero+zeros)\n"
      ],
      "metadata": {
        "colab": {
          "base_uri": "https://localhost:8080/"
        },
        "id": "DigutGl95Ji4",
        "outputId": "ada71b67-c201-41f4-ba89-60e4507bf395"
      },
      "execution_count": null,
      "outputs": [
        {
          "output_type": "stream",
          "name": "stdout",
          "text": [
            "3, 4, 0, 0, 0, 6, 2, 0, 6, 7, 6, 0, 0, 0, 9, 10, 7, 4, 4, 5, 3, 0, 0, 3, 9, 7, 1\n",
            "[3, 4, 6, 2, 6, 7, 6, 9, 10, 7, 4, 4, 5, 3, 3, 9, 7, 1, 0, 0, 0, 0, 0, 0, 0, 0, 0]\n"
          ]
        }
      ]
    },
    {
      "cell_type": "code",
      "source": [
        "def third_max(nums):\n",
        "    nums = sorted(set(nums), reverse=True)  # Remove duplicates and sort in descending order\n",
        "    if len(nums) < 3:\n",
        "        return nums[0]  # If less than 3 distinct elements, return the maximum number\n",
        "    else:\n",
        "        return nums[2]  # Return the third distinct maximum number\n",
        "\n",
        "# Example\n",
        "nums = (3, 2, 1)\n",
        "result = third_max(nums)\n",
        "print(\"Output:\",result)"
      ],
      "metadata": {
        "colab": {
          "base_uri": "https://localhost:8080/"
        },
        "id": "xYVhvU1D50IY",
        "outputId": "f014e65f-6796-4ba1-fca1-ee5cb1b0692d"
      },
      "execution_count": null,
      "outputs": [
        {
          "output_type": "stream",
          "name": "stdout",
          "text": [
            "Output: 1\n"
          ]
        }
      ]
    },
    {
      "cell_type": "code",
      "source": [
        "#Question 4 :\n",
        "def fibonacci(n):\n",
        "    fib_series = []  # Initialize Fibonacci series\n",
        "    a, b = 0, 1  # Initialize first two Fibonacci numbers\n",
        "\n",
        "    for _ in range(n):\n",
        "        fib_series.append(a)\n",
        "        a, b = b, a + b  # Generate next Fibonacci number\n",
        "\n",
        "    return fib_series\n",
        "\n",
        "# Input\n",
        "n = int(input(\"Enter the number of Fibonacci numbers to generate: \"))\n",
        "\n",
        "# Output\n",
        "fib_series = fibonacci(n)\n",
        "print(\"Fibonacci Series:\")\n",
        "print(' '.join(map(str, fib_series)))  # Convert numbers to strings and concatenate them with spaces"
      ],
      "metadata": {
        "colab": {
          "base_uri": "https://localhost:8080/"
        },
        "id": "vKcrc_uu59Md",
        "outputId": "8f4ae080-a2fc-4ab7-c08f-9b8f687dc27d"
      },
      "execution_count": null,
      "outputs": [
        {
          "output_type": "stream",
          "name": "stdout",
          "text": [
            "Enter the number of Fibonacci numbers to generate: 5\n",
            "Fibonacci Series:\n",
            "0 1 1 2 3\n"
          ]
        }
      ]
    },
    {
      "cell_type": "markdown",
      "source": [
        "### PYTHON_COMPETITION 2"
      ],
      "metadata": {
        "id": "pTOevnvl1B9Z"
      }
    },
    {
      "cell_type": "code",
      "source": [
        "#Question 5:\n",
        "def closest_pair_indices(nums):\n",
        "    min_diff = float('inf')  # Initialize minimum difference as positive infinity\n",
        "    closest_indices = (0, 1)  # Initialize indices of the closest pair\n",
        "\n",
        "    for i in range(len(nums)):\n",
        "        for j in range(i + 1, len(nums)):\n",
        "            diff = abs(nums[i] - nums[j])\n",
        "            if diff < min_diff:\n",
        "                min_diff = diff\n",
        "                closest_indices = (i, j)\n",
        "\n",
        "    return closest_indices\n",
        "\n",
        "# Input\n",
        "nums = (1, 7, 9, 2, 10)\n",
        "\n",
        "# Output\n",
        "result = closest_pair_indices(nums)\n",
        "print(result)"
      ],
      "metadata": {
        "colab": {
          "base_uri": "https://localhost:8080/"
        },
        "id": "jsQ9DWDk6Fdk",
        "outputId": "5b008d21-e20b-4ed3-f6a0-523826e225b3"
      },
      "execution_count": null,
      "outputs": [
        {
          "output_type": "stream",
          "name": "stdout",
          "text": [
            "(0, 3)\n"
          ]
        }
      ]
    },
    {
      "cell_type": "code",
      "source": [
        "def compute_depths(s):\n",
        "    depths = []\n",
        "    current_depth = 0\n",
        "    group_depths = []\n",
        "\n",
        "    for char in s:\n",
        "        if char == '(':\n",
        "            current_depth += 1\n",
        "            group_depths.append(current_depth)\n",
        "        elif char == ')':\n",
        "            group_depths.append(current_depth)\n",
        "            current_depth -= 1\n",
        "        elif char == ' ':\n",
        "            # We hit a space, which means we need to finalize the current group\n",
        "            if group_depths:\n",
        "                depths.append(max(group_depths))\n",
        "                group_depths = []\n",
        "\n",
        "    # Finalize the last group if there is any\n",
        "    if group_depths:\n",
        "        depths.append(max(group_depths))\n",
        "\n",
        "    return depths\n",
        "\n",
        "# Test the function with the given input\n",
        "input_string = input()\n",
        "print(compute_depths(input_string))"
      ],
      "metadata": {
        "id": "V7luXEeZuknK",
        "colab": {
          "base_uri": "https://localhost:8080/"
        },
        "outputId": "bd72e13f-cc43-4689-ec3b-cdfa8446670a"
      },
      "execution_count": null,
      "outputs": [
        {
          "output_type": "stream",
          "name": "stdout",
          "text": [
            "(()) (()) () ((()()()))\n",
            "[2, 2, 1, 3]\n"
          ]
        }
      ]
    },
    {
      "cell_type": "code",
      "source": [
        "def find_buildings_with_ocean_view(heights):\n",
        "    n = len(heights)\n",
        "    ocean_view_indices = []\n",
        "\n",
        "    # Initialize the maximum height encountered from the right\n",
        "    max_height = float('-inf')\n",
        "\n",
        "    # Traverse from right to left\n",
        "    for i in range(n - 1, -1, -1):\n",
        "        if heights[i] > max_height:\n",
        "            ocean_view_indices.append(i)\n",
        "            max_height = heights[i]\n",
        "\n",
        "    # Reverse the list to get indices sorted in increasing order\n",
        "    ocean_view_indices.reverse()\n",
        "\n",
        "    return ocean_view_indices\n",
        "\n",
        "# Example usage\n",
        "heights =eval(input())\n",
        "print(find_buildings_with_ocean_view(heights))\n"
      ],
      "metadata": {
        "id": "IwT_lZDku_mv",
        "colab": {
          "base_uri": "https://localhost:8080/"
        },
        "outputId": "4bf2d6c6-b402-4873-d94f-11df04acdee5"
      },
      "execution_count": null,
      "outputs": [
        {
          "output_type": "stream",
          "name": "stdout",
          "text": [
            "[4, 2, 3, 1]\n",
            "[0, 2, 3]\n"
          ]
        }
      ]
    },
    {
      "cell_type": "code",
      "source": [
        "word1 =input()\n",
        "word2 =input()\n",
        "def merge_alternately(word1, word2):\n",
        "    merged_string = []\n",
        "    len1, len2 = len(word1), len(word2)\n",
        "    max_len = max(len1, len2)\n",
        "\n",
        "    for i in range(max_len):\n",
        "        if i < len1:\n",
        "            merged_string.append(word1[i])\n",
        "        if i < len2:\n",
        "            merged_string.append(word2[i])\n",
        "\n",
        "    return ''.join(merged_string)p\n",
        "\n",
        "result = merge_alternately(word1, word2)\n",
        "print(result)  # Output: \"apbqcr\""
      ],
      "metadata": {
        "id": "O5WnBdJavCFg",
        "colab": {
          "base_uri": "https://localhost:8080/"
        },
        "outputId": "beff07b5-4c2a-4d1f-fcf6-a6f958026b2a"
      },
      "execution_count": null,
      "outputs": [
        {
          "output_type": "stream",
          "name": "stdout",
          "text": [
            "abc\n",
            "pqr\n",
            "apbqcr\n"
          ]
        }
      ]
    },
    {
      "cell_type": "code",
      "source": [
        "def sort_people(names, heights):\n",
        "\n",
        "    people = list(zip(heights, names))\n",
        "\n",
        "    people.sort(reverse=True, key=lambda x: x[0])\n",
        "\n",
        "    sorted_names = [name for height, name in people]\n",
        "\n",
        "    return sorted_names\n",
        "\n",
        "names =eval(input())\n",
        "heights =eval(input())\n",
        "sorted_names = sort_people(names, heights)\n",
        "print(sorted_names)  # Output: ['Mary', 'Emma', 'John']"
      ],
      "metadata": {
        "colab": {
          "base_uri": "https://localhost:8080/"
        },
        "id": "1Z50Turyvzsm",
        "outputId": "1c0bff5f-29cf-42d0-c92e-6e787b4f2d95"
      },
      "execution_count": null,
      "outputs": [
        {
          "output_type": "stream",
          "name": "stdout",
          "text": [
            "['Mary','John','Emma',]\n",
            "[180,165,170]\n",
            "['Mary', 'Emma', 'John']\n"
          ]
        }
      ]
    },
    {
      "cell_type": "code",
      "source": [
        "def num_subarray_bounded_max(nums, left, right):\n",
        "    def count(bound):\n",
        "        ans = curr = 0\n",
        "        for x in nums:\n",
        "            if x <= bound:\n",
        "                curr += 1\n",
        "                ans += curr\n",
        "            else:\n",
        "                curr = 0\n",
        "        return ans\n",
        "\n",
        "    return count(right) - count(left - 1)\n",
        "\n",
        "nums =eval(input())\n",
        "left = int(input())\n",
        "right = int(input())\n",
        "output = num_subarray_bounded_max(nums, left, right)\n",
        "print(output)"
      ],
      "metadata": {
        "colab": {
          "base_uri": "https://localhost:8080/"
        },
        "id": "2N2guWajv3vi",
        "outputId": "bdc0dfd2-c17d-4ff3-fea1-d7911e16a8fe"
      },
      "execution_count": null,
      "outputs": [
        {
          "output_type": "stream",
          "name": "stdout",
          "text": [
            "[2, 1, 4, 3]\n",
            "2\n",
            "3\n",
            "3\n"
          ]
        }
      ]
    },
    {
      "cell_type": "code",
      "source": [
        "def left_triangle_number_pattern(n):\n",
        "    current_number = 1\n",
        "    for i in range(1, n + 1):\n",
        "        for j in range(i):\n",
        "            print(current_number, end=\"\")\n",
        "            current_number += 1\n",
        "        print()\n",
        "\n",
        "# Example usage\n",
        "n = int(input())\n",
        "left_triangle_number_pattern(n)"
      ],
      "metadata": {
        "colab": {
          "base_uri": "https://localhost:8080/"
        },
        "id": "GVQX8z0Hv98i",
        "outputId": "7621599e-592f-4423-c18a-7812d0974dd2"
      },
      "execution_count": null,
      "outputs": [
        {
          "output_type": "stream",
          "name": "stdout",
          "text": [
            "4\n",
            "1\n",
            "23\n",
            "456\n",
            "78910\n"
          ]
        }
      ]
    },
    {
      "cell_type": "code",
      "source": [
        "def print_diamond_pattern(rows):\n",
        "\n",
        "    for i in range(1, rows + 1):\n",
        "        print(\" \" * (rows - i), end=\"\")\n",
        "        for j in range(1, 2 * i):\n",
        "            print(\"*\", end=\"\")\n",
        "        print()\n",
        "    for i in range(rows - 1, 0, -1):\n",
        "        print(\" \" * (rows - i), end=\"\")\n",
        "        for j in range(1, 2 * i):\n",
        "            print(\"*\", end=\"\")\n",
        "        print()\n",
        "\n",
        "if __name__ == \"__main__\":\n",
        "    rows = int(input().strip())\n",
        "    print_diamond_pattern(rows)"
      ],
      "metadata": {
        "colab": {
          "base_uri": "https://localhost:8080/"
        },
        "id": "sxsoGbFfwCBZ",
        "outputId": "9558c6ef-1012-45d6-98b2-1031cbde166e"
      },
      "execution_count": null,
      "outputs": [
        {
          "output_type": "stream",
          "name": "stdout",
          "text": [
            "5\n",
            "    *\n",
            "   ***\n",
            "  *****\n",
            " *******\n",
            "*********\n",
            " *******\n",
            "  *****\n",
            "   ***\n",
            "    *\n"
          ]
        }
      ]
    },
    {
      "cell_type": "code",
      "source": [
        "def remove_duplicates(s: str):\n",
        "    stack = []\n",
        "\n",
        "    for char in s:\n",
        "        if stack and stack[-1] == char:\n",
        "            stack.pop()\n",
        "        else:\n",
        "            stack.append(char)\n",
        "\n",
        "    return ''.join(stack)\n",
        "\n",
        "# Example usage\n",
        "s = input()\n",
        "print(remove_duplicates(s))"
      ],
      "metadata": {
        "colab": {
          "base_uri": "https://localhost:8080/"
        },
        "id": "1gxUvhmBwKJX",
        "outputId": "11ac9159-7531-4cce-d38e-eba0164d5142"
      },
      "execution_count": null,
      "outputs": [
        {
          "output_type": "stream",
          "name": "stdout",
          "text": [
            "abbaca\n",
            "ca\n"
          ]
        }
      ]
    },
    {
      "cell_type": "code",
      "source": [
        "def remove_duplicates(s: str):\n",
        "    stack = []\n",
        "\n",
        "    for char in s:\n",
        "        if stack and stack[-1] == char:\n",
        "            stack.pop()\n",
        "        else:\n",
        "            stack.append(char)\n",
        "\n",
        "    return ''.join(stack)\n",
        "\n",
        "# Example usage\n",
        "s = input()\n",
        "print(remove_duplicates(s))"
      ],
      "metadata": {
        "colab": {
          "base_uri": "https://localhost:8080/"
        },
        "id": "4DlIcC70wNCU",
        "outputId": "793e0d6b-3b32-4267-e1b6-f50635c1fb2d"
      },
      "execution_count": null,
      "outputs": [
        {
          "output_type": "stream",
          "name": "stdout",
          "text": [
            "abbca\n",
            "aca\n"
          ]
        }
      ]
    },
    {
      "cell_type": "code",
      "source": [
        "#Dictionary to map digits to their corresponding English words\n",
        "digit_to_word = {\n",
        "    0: 'zero',\n",
        "    1: 'one',\n",
        "    2: 'two',\n",
        "    3: 'three',\n",
        "    4: 'four',\n",
        "    5: 'five',\n",
        "    6: 'six',\n",
        "    7: 'seven',\n",
        "    8: 'eight',\n",
        "    9: 'nine'\n",
        "}\n",
        "\n",
        "# List of numbers as input\n",
        "input_numbers =eval(input())\n",
        "\n",
        "# Filter out non-single digit numbers\n",
        "single_digits = [num for num in input_numbers if 0 <= num <= 9]\n",
        "\n",
        "# Sort the single digits in reverse order\n",
        "single_digits.sort(reverse=True)\n",
        "\n",
        "# Convert digits to words\n",
        "words = [digit_to_word[num] for num in single_digits]\n",
        "\n",
        "# Print the output\n",
        "print(words)"
      ],
      "metadata": {
        "colab": {
          "base_uri": "https://localhost:8080/"
        },
        "id": "dRgDts2vwRMX",
        "outputId": "fbb02487-a8a0-40df-d7ac-be200a68f78f"
      },
      "execution_count": null,
      "outputs": [
        {
          "output_type": "stream",
          "name": "stdout",
          "text": [
            "[1, 3, 4, 5, 11]\n",
            "['five', 'four', 'three', 'one']\n"
          ]
        }
      ]
    },
    {
      "cell_type": "code",
      "source": [
        "def print_unique_number_pattern(N):\n",
        "    num_list = list(range(1, N*N + 1))\n",
        "\n",
        "    # Split the list into chunks of size N\n",
        "    chunks = [num_list[i:i+N] for i in range(0, len(num_list), N)]\n",
        "\n",
        "    # Manually reorder the chunks to match the desired pattern\n",
        "    result = [chunks[0], chunks[2], chunks[4], chunks[3], chunks[1]]\n",
        "\n",
        "    for chunk in result:\n",
        "        print(' '.join(map(str, chunk)))\n",
        "\n",
        "N=int(input())\n",
        "print(print_unique_number_pattern(N))"
      ],
      "metadata": {
        "colab": {
          "base_uri": "https://localhost:8080/"
        },
        "id": "cY0UU5ITwVL1",
        "outputId": "a2b16f96-2c1f-4fd6-edec-da417f0d5925"
      },
      "execution_count": null,
      "outputs": [
        {
          "output_type": "stream",
          "name": "stdout",
          "text": [
            "5\n",
            "1 2 3 4 5\n",
            "11 12 13 14 15\n",
            "21 22 23 24 25\n",
            "16 17 18 19 20\n",
            "6 7 8 9 10\n",
            "None\n"
          ]
        }
      ]
    },
    {
      "cell_type": "code",
      "source": [
        "#Function to print the hollow V number pattern\n",
        "def print_hollow_v_pattern(N):\n",
        "    for i in range(1, N + 1):\n",
        "        # Print the left part of the pattern\n",
        "        for j in range(1, i + 1):\n",
        "            print(j, end='')\n",
        "        # Print spaces\n",
        "        space_count = 2 * (N - i)\n",
        "        print(' ' * space_count, end='')\n",
        "        # Print the right part of the pattern\n",
        "        for j in range(i, 0, -1):\n",
        "            print(j, end='')\n",
        "        print()  # Move to the next line\n",
        "\n",
        "# Input\n",
        "N = 5\n",
        "\n",
        "# Print the pattern\n",
        "print_hollow_v_pattern(N)"
      ],
      "metadata": {
        "colab": {
          "base_uri": "https://localhost:8080/"
        },
        "id": "P1JM6wW930HS",
        "outputId": "6028c40d-6b0c-44a7-ca6b-aec5d57f2332"
      },
      "execution_count": null,
      "outputs": [
        {
          "output_type": "stream",
          "name": "stdout",
          "text": [
            "1        1\n",
            "12      21\n",
            "123    321\n",
            "1234  4321\n",
            "1234554321\n"
          ]
        }
      ]
    },
    {
      "cell_type": "code",
      "source": [
        "n=6\n",
        "for i in range(1,n):\n",
        "  for j in range(n,i,-1):\n",
        "    print(\" \",end=\"\")\n",
        "  for k in range(1,i+1):\n",
        "    print(k,end=\"\")\n",
        "  print()\n",
        "\n",
        "\n"
      ],
      "metadata": {
        "colab": {
          "base_uri": "https://localhost:8080/"
        },
        "id": "Z9_Pw62Y4UOS",
        "outputId": "09d2b39b-a65c-44fd-b063-02f08f4abb7b"
      },
      "execution_count": null,
      "outputs": [
        {
          "output_type": "stream",
          "name": "stdout",
          "text": [
            "     1\n",
            "    12\n",
            "   123\n",
            "  1234\n",
            " 12345\n"
          ]
        }
      ]
    },
    {
      "cell_type": "code",
      "source": [
        "def single_digits(num):\n",
        "    # Dictionary to map digits to words\n",
        "    dig_to_word = {\n",
        "        0: \"zero\", 1: 'one', 2: 'two', 3: 'three', 4: 'four',\n",
        "        5: 'five', 6: \"six\", 7: \"seven\", 8: \"eight\", 9: 'nine'\n",
        "    }\n",
        "\n",
        "    # Filter out single digits from the input list\n",
        "    single_digit = [n for n in num if 0 <= n < 10]\n",
        "\n",
        "    # Sort the single digits in descending order\n",
        "    single_digit_sorted = sorted(single_digit, reverse=True)\n",
        "\n",
        "    # Convert the digits to their corresponding words\n",
        "    words = [dig_to_word[n] for n in single_digit_sorted]\n",
        "\n",
        "    return words\n",
        "\n",
        "# Input list of numbers\n",
        "num = eval(input())\n",
        "\n",
        "# Print the resulting list of words\n",
        "print(single_digits(num))\n"
      ],
      "metadata": {
        "colab": {
          "base_uri": "https://localhost:8080/"
        },
        "id": "EN_vL9yXwYxa",
        "outputId": "e2fecdc9-a47d-4ebd-8617-516eecf8dd12"
      },
      "execution_count": null,
      "outputs": [
        {
          "output_type": "stream",
          "name": "stdout",
          "text": [
            "[1, 3, 4, 5, 11]\n",
            "['five', 'four', 'three', 'one']\n"
          ]
        }
      ]
    },
    {
      "cell_type": "code",
      "source": [
        "string = \"AlmaBetter\"\n",
        "char_to_remove = \"t\"\n",
        "\n",
        "new_string = string.replace(char_to_remove, \" \").lower()\n",
        "print(new_string)"
      ],
      "metadata": {
        "colab": {
          "base_uri": "https://localhost:8080/"
        },
        "id": "k-BJKes-wcJo",
        "outputId": "9c0c2b97-7111-48e7-d1af-3edf32b61798"
      },
      "execution_count": null,
      "outputs": [
        {
          "output_type": "stream",
          "name": "stdout",
          "text": [
            "almabe  er\n"
          ]
        }
      ]
    },
    {
      "cell_type": "code",
      "source": [
        "def print_pattern(n):\n",
        "    for i in range(1, n + 1):\n",
        "        for j in range(1, i + 1):\n",
        "            print(chr(64 + j), end=\"\")\n",
        "        print()\n",
        "\n",
        "n=int(input())\n",
        "print_pattern(n)"
      ],
      "metadata": {
        "colab": {
          "base_uri": "https://localhost:8080/"
        },
        "id": "oHpDB9aL2u-Z",
        "outputId": "8260ed81-85df-45e3-acfa-ae4dff51c009"
      },
      "execution_count": null,
      "outputs": [
        {
          "output_type": "stream",
          "name": "stdout",
          "text": [
            "4\n",
            "A\n",
            "AB\n",
            "ABC\n",
            "ABCD\n"
          ]
        }
      ]
    },
    {
      "cell_type": "code",
      "source": [
        "n=4d\n",
        "for i in range(n,0,-1):\n",
        "  for j in range(i):\n",
        "    print(i,end='')\n",
        "  print()"
      ],
      "metadata": {
        "colab": {
          "base_uri": "https://localhost:8080/"
        },
        "id": "zs7KYRIY21u-",
        "outputId": "b9165764-98c0-4ec1-d601-8d4c5b03f1be"
      },
      "execution_count": null,
      "outputs": [
        {
          "output_type": "stream",
          "name": "stdout",
          "text": [
            "4444\n",
            "333\n",
            "22\n",
            "1\n"
          ]
        }
      ]
    },
    {
      "cell_type": "markdown",
      "source": [
        "### <h1> Pattern</h1>"
      ],
      "metadata": {
        "id": "9MYoqiCj6j3v"
      }
    },
    {
      "cell_type": "code",
      "source": [
        "n=int(input())\n",
        "for i in range(n):\n",
        "  for j in range(i+1):\n",
        "    print('*',end='')\n",
        "  print() # for new line\n"
      ],
      "metadata": {
        "colab": {
          "base_uri": "https://localhost:8080/"
        },
        "id": "2_PnoZrc3giD",
        "outputId": "7f412ecc-218c-4a40-8848-a12df111d752"
      },
      "execution_count": null,
      "outputs": [
        {
          "output_type": "stream",
          "name": "stdout",
          "text": [
            "5\n",
            "*\n",
            "**\n",
            "***\n",
            "****\n",
            "*****\n"
          ]
        }
      ]
    },
    {
      "cell_type": "code",
      "source": [
        "n=4\n",
        "for i in range(n,0,-1):\n",
        "  for j in range(i,0,-1):\n",
        "    print('*',end='')\n",
        "  print()"
      ],
      "metadata": {
        "colab": {
          "base_uri": "https://localhost:8080/"
        },
        "id": "7hKYRF6E7CRs",
        "outputId": "f700f09c-0fae-4c76-c2fb-aab423878cc3"
      },
      "execution_count": null,
      "outputs": [
        {
          "output_type": "stream",
          "name": "stdout",
          "text": [
            "****\n",
            "***\n",
            "**\n",
            "*\n"
          ]
        }
      ]
    },
    {
      "cell_type": "code",
      "source": [
        "n=5\n",
        "for i in range(1,n+1):\n",
        "  for j in range(i):\n",
        "    print(i,end='')\n",
        "  print()"
      ],
      "metadata": {
        "colab": {
          "base_uri": "https://localhost:8080/"
        },
        "id": "MgZOmaPR8s-H",
        "outputId": "16f3d0b4-10df-410d-9997-a10b20f54da8"
      },
      "execution_count": null,
      "outputs": [
        {
          "output_type": "stream",
          "name": "stdout",
          "text": [
            "1\n",
            "22\n",
            "333\n",
            "4444\n",
            "55555\n"
          ]
        }
      ]
    },
    {
      "cell_type": "code",
      "source": [
        "n=5\n",
        "for i in range(n,0,-1):\n",
        "  for j in range(i):\n",
        "    print(i,end='')\n",
        "  print()\n"
      ],
      "metadata": {
        "colab": {
          "base_uri": "https://localhost:8080/"
        },
        "id": "7jnzEz8M-C1b",
        "outputId": "656859bf-eaca-49d9-a498-d9bc0ce0c61f"
      },
      "execution_count": null,
      "outputs": [
        {
          "output_type": "stream",
          "name": "stdout",
          "text": [
            "55555\n",
            "4444\n",
            "333\n",
            "22\n",
            "1\n"
          ]
        }
      ]
    },
    {
      "cell_type": "code",
      "source": [
        "n=6\n",
        "for i in range(1,n):\n",
        "  for j in range(1,i+1):\n",
        "    print(i,end='')\n",
        "  print()"
      ],
      "metadata": {
        "colab": {
          "base_uri": "https://localhost:8080/"
        },
        "id": "B3a5tbZCCCr8",
        "outputId": "64585741-27e6-4314-9ff8-4bd791d18ccc"
      },
      "execution_count": null,
      "outputs": [
        {
          "output_type": "stream",
          "name": "stdout",
          "text": [
            "1\n",
            "12\n",
            "123\n",
            "1234\n",
            "12345\n"
          ]
        }
      ]
    },
    {
      "cell_type": "code",
      "source": [
        "n=5\n",
        "for i in range(n,0,-1):\n",
        "  for j in range(1,i+1):\n",
        "    print(j,end='')\n",
        "  print()"
      ],
      "metadata": {
        "colab": {
          "base_uri": "https://localhost:8080/"
        },
        "id": "Uf7N4dRmDnpR",
        "outputId": "a1823866-3424-4143-b04a-f5eb7d69ddd4"
      },
      "execution_count": null,
      "outputs": [
        {
          "output_type": "stream",
          "name": "stdout",
          "text": [
            "12345\n",
            "1234\n",
            "123\n",
            "12\n",
            "1\n"
          ]
        }
      ]
    },
    {
      "cell_type": "code",
      "source": [
        "n=5\n",
        "for i in range(1,n):\n",
        "  for j in range(i,0,-1):\n",
        "    print(j,end='')\n",
        "  print()"
      ],
      "metadata": {
        "colab": {
          "base_uri": "https://localhost:8080/"
        },
        "id": "l_Qb9ToULwoI",
        "outputId": "8de45ef2-bd6c-4ddc-eca3-64b6254c725a"
      },
      "execution_count": null,
      "outputs": [
        {
          "output_type": "stream",
          "name": "stdout",
          "text": [
            "1\n",
            "21\n",
            "321\n",
            "4321\n"
          ]
        }
      ]
    },
    {
      "cell_type": "code",
      "source": [
        "for i in range(n,0,-1):\n",
        "  for j in range(i,0,-1):\n",
        "    print(j,end='')\n",
        "  print()"
      ],
      "metadata": {
        "colab": {
          "base_uri": "https://localhost:8080/"
        },
        "id": "c-82lwy3McJE",
        "outputId": "c7b55ea1-89c7-44ef-9d1b-e42615b4a359"
      },
      "execution_count": null,
      "outputs": [
        {
          "output_type": "stream",
          "name": "stdout",
          "text": [
            "54321\n",
            "4321\n",
            "321\n",
            "21\n",
            "1\n"
          ]
        }
      ]
    },
    {
      "cell_type": "code",
      "source": [
        "n=6\n",
        "for i in range(1,n):\n",
        "  for j in range(n,i,-1):\n",
        "    print(\" \",end=\"\")\n",
        "  for k in range(1,i+1):\n",
        "    print(\"*\",end=\"\")\n",
        "  print()\n",
        "\n",
        "\n",
        "\n",
        "\n"
      ],
      "metadata": {
        "colab": {
          "base_uri": "https://localhost:8080/"
        },
        "id": "zNvi1NjHZ6eV",
        "outputId": "f7cfae9d-7969-41b7-8920-2b13674e1cf8"
      },
      "execution_count": null,
      "outputs": [
        {
          "output_type": "stream",
          "name": "stdout",
          "text": [
            "     *\n",
            "    **\n",
            "   ***\n",
            "  ****\n",
            " *****\n"
          ]
        }
      ]
    },
    {
      "cell_type": "code",
      "source": [
        "for i in range(n,0,-1):\n",
        "  for j in range(n,i,-1):\n",
        "    print(\" \",end=\"\")\n",
        "  for k in range(1,i+1):\n",
        "    print('*',end=\"\")\n",
        "  print()\n"
      ],
      "metadata": {
        "colab": {
          "base_uri": "https://localhost:8080/"
        },
        "id": "1gxkpxJybFmR",
        "outputId": "f4a35983-8e1e-49f6-ed39-1deac4ee0401"
      },
      "execution_count": null,
      "outputs": [
        {
          "output_type": "stream",
          "name": "stdout",
          "text": [
            "******\n",
            " *****\n",
            "  ****\n",
            "   ***\n",
            "    **\n",
            "     *\n"
          ]
        }
      ]
    },
    {
      "cell_type": "code",
      "source": [
        "n=6\n",
        "for i in range(1,n):\n",
        "  for j in range(n,i,-1):\n",
        "    print(\" \",end=\"\")\n",
        "  for k in range(1,i+1):\n",
        "    print(k,end=\"\")\n",
        "  print()"
      ],
      "metadata": {
        "colab": {
          "base_uri": "https://localhost:8080/"
        },
        "id": "9Lxwd9E2pulV",
        "outputId": "c7e9cf15-3c04-4746-d7c2-97f51775fde2"
      },
      "execution_count": null,
      "outputs": [
        {
          "output_type": "stream",
          "name": "stdout",
          "text": [
            "     1\n",
            "    12\n",
            "   123\n",
            "  1234\n",
            " 12345\n"
          ]
        }
      ]
    },
    {
      "cell_type": "code",
      "source": [
        "for i in range(n,0,-1):\n",
        "  for j in range(n,i,-1):\n",
        "    print(\" \",end=\"\")\n",
        "  for k in range(1,i+1):\n",
        "    print(k,end=\"\")\n",
        "  print()"
      ],
      "metadata": {
        "colab": {
          "base_uri": "https://localhost:8080/"
        },
        "id": "1R9ARVKKqoFR",
        "outputId": "9cef23dc-c0f2-46db-97ca-4eb9103f546e"
      },
      "execution_count": null,
      "outputs": [
        {
          "output_type": "stream",
          "name": "stdout",
          "text": [
            "123456\n",
            " 12345\n",
            "  1234\n",
            "   123\n",
            "    12\n",
            "     1\n"
          ]
        }
      ]
    },
    {
      "cell_type": "code",
      "source": [
        "for i in range(1,n):\n",
        "  for j in range(5,i,-1):\n",
        "    print(\" \",end=\"\")\n",
        "  for k in range(1,i+1):\n",
        "    print(i,end=\"\")\n",
        "  print()\n"
      ],
      "metadata": {
        "colab": {
          "base_uri": "https://localhost:8080/"
        },
        "id": "pWKbJhfOrJDb",
        "outputId": "0f08b0b8-a0fd-4b89-c993-7f0907b244ba"
      },
      "execution_count": null,
      "outputs": [
        {
          "output_type": "stream",
          "name": "stdout",
          "text": [
            "    1\n",
            "   22\n",
            "  333\n",
            " 4444\n"
          ]
        }
      ]
    },
    {
      "cell_type": "code",
      "source": [
        "n=5\n",
        "for i in range(n,0,-1):\n",
        "  for j in range(5,i,-1):\n",
        "    print(\" \",end=\"\")\n",
        "  for k in range(1,i+1):\n",
        "    print(i,end=\"\")\n",
        "  print()\n"
      ],
      "metadata": {
        "colab": {
          "base_uri": "https://localhost:8080/"
        },
        "id": "HF39xa4Qr3wi",
        "outputId": "2a392687-7eac-45f6-c232-0de00e16e200"
      },
      "execution_count": null,
      "outputs": [
        {
          "output_type": "stream",
          "name": "stdout",
          "text": [
            "55555\n",
            " 4444\n",
            "  333\n",
            "   22\n",
            "    1\n"
          ]
        }
      ]
    },
    {
      "cell_type": "code",
      "source": [
        "def print_pattern(n):\n",
        "    for i in range(1, n + 1):\n",
        "        for j in range(1, i + 1):\n",
        "            print(chr(64 + j), end=\"\")\n",
        "        print()\n",
        "\n",
        "n=int(input())\n",
        "print_pattern()"
      ],
      "metadata": {
        "colab": {
          "base_uri": "https://localhost:8080/"
        },
        "id": "tA67VfpiTILd",
        "outputId": "8d981114-6406-4275-cc6b-c15d1405cc6f"
      },
      "execution_count": null,
      "outputs": [
        {
          "output_type": "stream",
          "name": "stdout",
          "text": [
            "A\n",
            "AB\n",
            "ABC\n",
            "ABCD\n"
          ]
        }
      ]
    },
    {
      "cell_type": "code",
      "source": [
        "# Function to print the reverse pyramid star pattern\n",
        "def print_reverse_pyramid(n):\n",
        "    # Outer loop for rows\n",
        "    for i in range(n):\n",
        "        # Print leading spaces\n",
        "        for j in range(i):\n",
        "            print(' ', end='')\n",
        "\n",
        "        # Print stars\n",
        "        for j in range(2 * (n - i) - 1):\n",
        "            print('*', end='')\n",
        "\n",
        "        # New line after each row\n",
        "        print()\n",
        "\n",
        "# User input\n",
        "n = int(input(\"Enter an integer n: \"))\n",
        "print_reverse_pyramid(n)\n"
      ],
      "metadata": {
        "colab": {
          "base_uri": "https://localhost:8080/"
        },
        "id": "KzR0arJ3jXLO",
        "outputId": "29da3a53-a7e7-4faa-ea45-78438163fa0c"
      },
      "execution_count": null,
      "outputs": [
        {
          "output_type": "stream",
          "name": "stdout",
          "text": [
            "Enter an integer n: 5\n",
            "\n",
            " *\n",
            "  ***\n",
            "   *****\n",
            "    *******\n"
          ]
        }
      ]
    },
    {
      "cell_type": "code",
      "source": [
        "for i in range(n,0,-1):\n",
        " for j in range(n,i,-1):\n",
        "  print(' ',end=\"\")\n",
        " for k in range(1,i+1):\n",
        "  print('*',end='')\n",
        " print()\n",
        " for l in range()\n",
        "\n"
      ],
      "metadata": {
        "colab": {
          "base_uri": "https://localhost:8080/"
        },
        "id": "XqszPQse6G6I",
        "outputId": "d3bb3c93-2f04-4282-c794-13f539009f5d"
      },
      "execution_count": null,
      "outputs": [
        {
          "output_type": "stream",
          "name": "stdout",
          "text": [
            "*****\n",
            " ****\n",
            "  ***\n",
            "   **\n",
            "    *\n"
          ]
        }
      ]
    },
    {
      "cell_type": "code",
      "source": [
        "n=5\n",
        "for i in range(n,0,-1):\n",
        "  print(' '*(n-i),'*'*i)\n",
        "for j in range(n,0,-1):\n",
        "  print(' '*(n-i),'*'*i)\n"
      ],
      "metadata": {
        "colab": {
          "base_uri": "https://localhost:8080/"
        },
        "id": "6h0-2_4t7Z_N",
        "outputId": "5b553184-35eb-408e-d71d-9e2d63ffcac4"
      },
      "execution_count": null,
      "outputs": [
        {
          "output_type": "stream",
          "name": "stdout",
          "text": [
            " *****\n",
            "  ****\n",
            "   ***\n",
            "    **\n",
            "     *\n",
            "     *\n",
            "     *\n",
            "     *\n",
            "     *\n",
            "     *\n"
          ]
        }
      ]
    },
    {
      "cell_type": "code",
      "source": [
        "for i in range(1,7):\n",
        "  print(' '*(6-i),'*'*i,'*'*(i-1),sep='')\n"
      ],
      "metadata": {
        "colab": {
          "base_uri": "https://localhost:8080/"
        },
        "id": "wAt-HVc-JhcW",
        "outputId": "18981786-9e3e-49f5-f0e1-c0b61bd545fb"
      },
      "execution_count": null,
      "outputs": [
        {
          "output_type": "stream",
          "name": "stdout",
          "text": [
            "     *\n",
            "    ***\n",
            "   *****\n",
            "  *******\n",
            " *********\n",
            "***********\n"
          ]
        }
      ]
    },
    {
      "cell_type": "code",
      "source": [
        "n=6\n",
        "for i in range(n,0,-1):\n",
        "  print(' '*(n-i),'*'*i,'*'*(i-1),sep='')"
      ],
      "metadata": {
        "colab": {
          "base_uri": "https://localhost:8080/"
        },
        "id": "7TAaieaxQrX9",
        "outputId": "b3356e2f-ba14-4d66-e12a-b9da03ec8693"
      },
      "execution_count": null,
      "outputs": [
        {
          "output_type": "stream",
          "name": "stdout",
          "text": [
            "***********\n",
            " *********\n",
            "  *******\n",
            "   *****\n",
            "    ***\n",
            "     *\n"
          ]
        }
      ]
    },
    {
      "cell_type": "code",
      "source": [
        "n = int(input(\"Enter an integer n: \"))\n",
        "for i in range(1, n + 1):\n",
        "    # Print leading spaces\n",
        "    for j in range(n, i, -1):\n",
        "        print(\" \", end=\"\")\n",
        "    # Print numbers in increasing order\n",
        "    for k in range(1, i + 1):\n",
        "        print(k, end=\"\")\n",
        "    print()\n"
      ],
      "metadata": {
        "id": "gI6ebRQPeyj1",
        "outputId": "e62bb21a-f4a0-4b91-de17-5be3f758a166",
        "colab": {
          "base_uri": "https://localhost:8080/"
        }
      },
      "execution_count": null,
      "outputs": [
        {
          "output_type": "stream",
          "name": "stdout",
          "text": [
            "Enter an integer n: 4\n",
            "   1\n",
            "  12\n",
            " 123\n",
            "1234\n"
          ]
        }
      ]
    },
    {
      "cell_type": "code",
      "source": [],
      "metadata": {
        "id": "WoH9CYp1ey9m"
      },
      "execution_count": null,
      "outputs": []
    }
  ]
}