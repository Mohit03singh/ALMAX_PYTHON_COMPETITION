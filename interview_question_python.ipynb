{
  "nbformat": 4,
  "nbformat_minor": 0,
  "metadata": {
    "colab": {
      "provenance": [],
      "authorship_tag": "ABX9TyNczsJl1dnJLzNF32uXFmoK",
      "include_colab_link": true
    },
    "kernelspec": {
      "name": "python3",
      "display_name": "Python 3"
    },
    "language_info": {
      "name": "python"
    }
  },
  "cells": [
    {
      "cell_type": "markdown",
      "metadata": {
        "id": "view-in-github",
        "colab_type": "text"
      },
      "source": [
        "<a href=\"https://colab.research.google.com/github/Mohit03singh/ALMAX_PYTHON_COMPETITION/blob/main/interview_question_python.ipynb\" target=\"_parent\"><img src=\"https://colab.research.google.com/assets/colab-badge.svg\" alt=\"Open In Colab\"/></a>"
      ]
    },
    {
      "cell_type": "code",
      "execution_count": null,
      "metadata": {
        "colab": {
          "base_uri": "https://localhost:8080/"
        },
        "id": "8duEX0xHQW1d",
        "outputId": "19650993-3e26-417b-e316-9969f3c2fae8"
      },
      "outputs": [
        {
          "output_type": "stream",
          "name": "stdout",
          "text": [
            "5\n",
            "5\n"
          ]
        }
      ],
      "source": [
        "def fibonacci(n):\n",
        "  if n<0:\n",
        "    return \"incorrect input please enter positive number\"\n",
        "  elif n ==0:\n",
        "    return 1\n",
        "  elif n ==1 or n ==2:\n",
        "    return 1\n",
        "  else:\n",
        "   return fibonacci(n-1)+fibonacci(n-2)\n",
        "n=int(input())\n",
        "print(fibonacci(n))\n",
        "\n"
      ]
    },
    {
      "cell_type": "code",
      "source": [
        "def factorial(n):\n",
        "  if n<0:\n",
        "    return \"incorrect input\"\n",
        "  elif n==0 or n==1:\n",
        "    return 1\n",
        "  else:\n",
        "    return n* factorial(n-1)\n",
        "\n",
        "n=int(input())\n",
        "print(factorial(n))"
      ],
      "metadata": {
        "colab": {
          "base_uri": "https://localhost:8080/"
        },
        "id": "sgfxKy0rRVll",
        "outputId": "3dc06daf-2c22-4fb2-a2df-59e3340b1d30"
      },
      "execution_count": null,
      "outputs": [
        {
          "output_type": "stream",
          "name": "stdout",
          "text": [
            "5\n",
            "120\n"
          ]
        }
      ]
    },
    {
      "cell_type": "code",
      "source": [
        "def is_palindrome(s):\n",
        "  s=\"\".join(s.split()).lower()\n",
        "  return s==s[::-1]\n",
        "s=input()\n",
        "print(is_palindrome(s))\n"
      ],
      "metadata": {
        "colab": {
          "base_uri": "https://localhost:8080/"
        },
        "id": "GhSzDKQnRzjN",
        "outputId": "d31d02fa-23f8-4aef-be9f-86b4145e4a1f"
      },
      "execution_count": null,
      "outputs": [
        {
          "output_type": "stream",
          "name": "stdout",
          "text": [
            "man\n",
            "False\n"
          ]
        }
      ]
    },
    {
      "cell_type": "code",
      "source": [
        "def prime_check(n):\n",
        "  if n<=1:\n",
        "    return False\n",
        "  for i in range(2,(n//2)+1):\n",
        "    if n%i==0:\n",
        "      return False\n",
        "\n",
        "  return True\n",
        "\n",
        "n=2\n",
        "print(prime_check(n))\n"
      ],
      "metadata": {
        "colab": {
          "base_uri": "https://localhost:8080/"
        },
        "id": "D6lXPZEKSLgZ",
        "outputId": "e59c45cd-34cd-4263-f308-18da3305711c"
      },
      "execution_count": 6,
      "outputs": [
        {
          "output_type": "stream",
          "name": "stdout",
          "text": [
            "True\n"
          ]
        }
      ]
    },
    {
      "cell_type": "code",
      "source": [
        "def sum_of_digit(n):\n",
        "  if n==0:\n",
        "    return 0\n",
        "  else:\n",
        "    return n%10+sum_of_digit(n//10)\n",
        "n=int(input())\n",
        "print(sum_of_digit(n))"
      ],
      "metadata": {
        "colab": {
          "base_uri": "https://localhost:8080/"
        },
        "id": "GfiwPBI0S5VI",
        "outputId": "5180f4a3-0086-4ea1-d1ce-e0e56333f077"
      },
      "execution_count": null,
      "outputs": [
        {
          "output_type": "stream",
          "name": "stdout",
          "text": [
            "123\n",
            "6\n"
          ]
        }
      ]
    },
    {
      "cell_type": "code",
      "source": [
        "def frequency_count(s):\n",
        "  frequency={}\n",
        "  for char in s:\n",
        "    if char in frequency:\n",
        "      frequency[char]+=1\n",
        "    else:\n",
        "      frequency[char]=1\n",
        "  return frequency\n",
        "\n",
        "s=input()\n",
        "print(frequency_count(s))\n",
        "\n"
      ],
      "metadata": {
        "colab": {
          "base_uri": "https://localhost:8080/"
        },
        "id": "rbqefXUBUjO_",
        "outputId": "c579e0b9-5ce4-476b-b793-116c4ac5c581"
      },
      "execution_count": null,
      "outputs": [
        {
          "output_type": "stream",
          "name": "stdout",
          "text": [
            "mohithit\n",
            "{'m': 1, 'o': 1, 'h': 2, 'i': 2, 't': 2}\n"
          ]
        }
      ]
    },
    {
      "cell_type": "code",
      "source": [
        "def is_perfect_number(num):\n",
        "    if num <= 0:\n",
        "        return False\n",
        "\n",
        "    # Find all proper divisors (excluding the number itself)\n",
        "    divisors_sum = 0\n",
        "    for i in range(1, num):\n",
        "        if num % i == 0:\n",
        "            divisors_sum += i\n",
        "\n",
        "    # Check if the sum of divisors equals the number\n",
        "    return divisors_sum == num\n",
        "\n",
        "# Example usage\n",
        "number = 28\n",
        "if is_perfect_number(number):\n",
        "    print(f\"{number} is a perfect number.\")\n",
        "else:\n",
        "    print(f\"{number} is not a perfect number.\")\n"
      ],
      "metadata": {
        "colab": {
          "base_uri": "https://localhost:8080/"
        },
        "id": "MTqzAkNlV_qr",
        "outputId": "6b3e3d82-bd72-462e-800e-c4623711ee1e"
      },
      "execution_count": null,
      "outputs": [
        {
          "output_type": "stream",
          "name": "stdout",
          "text": [
            "28 is a perfect number.\n"
          ]
        }
      ]
    },
    {
      "cell_type": "code",
      "source": [
        "def isPerfect_number(n):\n",
        "  if n <=0:\n",
        "    return False\n",
        "  divisior_sum=0\n",
        "  for i in range(1,n):\n",
        "    if n % i==0:\n",
        "      divisior_sum+=i\n",
        "  return divisior_sum==n\n",
        "\n",
        "n=int(input())\n",
        "print(isPerfect_number(n))\n",
        "\n",
        "\n"
      ],
      "metadata": {
        "colab": {
          "base_uri": "https://localhost:8080/"
        },
        "id": "LopMuDgeX6Tr",
        "outputId": "229bf84e-a2ff-4f87-f86b-5a5de01277cc"
      },
      "execution_count": null,
      "outputs": [
        {
          "output_type": "stream",
          "name": "stdout",
          "text": [
            "28\n",
            "True\n"
          ]
        }
      ]
    },
    {
      "cell_type": "code",
      "source": [
        "def check_armstrong(n):\n",
        "  sum = 0\n",
        "  temp = n\n",
        "  while n>0:\n",
        "    digit = n%10\n",
        "    sum+=digit**3\n",
        "    n//=10\n",
        "  if temp==sum:\n",
        "      print(\"Number is Armstrong\")\n",
        "  else:\n",
        "      print(\"Number is not Armstrong\")\n",
        "\n",
        "\n",
        "n = int(input())\n",
        "check_armstrong(n)"
      ],
      "metadata": {
        "id": "CFyJYphmYrTN",
        "colab": {
          "base_uri": "https://localhost:8080/"
        },
        "outputId": "b12f96e8-ce69-4548-e548-1ae6d31b9994"
      },
      "execution_count": 7,
      "outputs": [
        {
          "output_type": "stream",
          "name": "stdout",
          "text": [
            "153\n",
            "Number is Armstrong\n"
          ]
        }
      ]
    },
    {
      "cell_type": "code",
      "source": [
        "#Remove vowel from string\n",
        "\n",
        "def remove_vowel(strings):\n",
        "  vowel = 'aeiouAEIOU'\n",
        "\n",
        "  for ch in strings:\n",
        "    if ch in vowel:\n",
        "      strings = strings.replace(ch, '')\n",
        "  return strings\n",
        "\n",
        "strings = input()\n",
        "remove_vowel(strings)\n"
      ],
      "metadata": {
        "id": "MG0NjoAsGd2O"
      },
      "execution_count": null,
      "outputs": []
    },
    {
      "cell_type": "code",
      "source": [
        "list1 = [1,2,3,4,5,6]\n",
        "list2 = [2,4,5,6,8,9]\n",
        "merged_list = list1 + list2\n",
        "print(list(set(merged_list)))"
      ],
      "metadata": {
        "id": "m99BqsTeGvk5"
      },
      "execution_count": null,
      "outputs": []
    },
    {
      "cell_type": "code",
      "source": [
        "#unique_list\n",
        "list1 = [1,2,3,5,5,6,7,2,9]\n",
        "unique_list = []\n",
        "for i in list1:\n",
        "  if i not in unique_list:\n",
        "    unique_list.append(i)\n",
        "print(unique_list)"
      ],
      "metadata": {
        "id": "q3IpxJCgG1p5"
      },
      "execution_count": null,
      "outputs": []
    },
    {
      "cell_type": "code",
      "source": [
        "#Leap Year\n",
        "\n",
        "def leap_year(year):\n",
        "  return (year%4==0 and year%100!=0 or year%400==0)\n",
        "\n",
        "year = int(input())\n",
        "if leap_year(year):\n",
        "  print(f\"The year {year} is a Leap year\")\n",
        "else:\n",
        "  print(f\"The year {year} is not a Leap year\")\n"
      ],
      "metadata": {
        "colab": {
          "base_uri": "https://localhost:8080/"
        },
        "id": "e04O2l2pG1m6",
        "outputId": "35035e2c-0d10-47f9-d4fb-3a12d583e7e5"
      },
      "execution_count": 9,
      "outputs": [
        {
          "output_type": "stream",
          "name": "stdout",
          "text": [
            "2021\n",
            "The year 2021 is not a Leap year:\n"
          ]
        }
      ]
    },
    {
      "cell_type": "code",
      "source": [
        "#Harmonic sum\n",
        "\n",
        "def harmonic_sum(n):\n",
        "  if n<=2:\n",
        "    return 1\n",
        "  else:\n",
        "    return 1 / n + harmonic_sum(n-1)\n",
        "\n",
        "n = int(input())\n",
        "harmonic_sum(n)\n",
        "\n"
      ],
      "metadata": {
        "colab": {
          "base_uri": "https://localhost:8080/"
        },
        "id": "HREOtCltHFot",
        "outputId": "e7527201-f2ec-4f81-eab1-97c21505b105"
      },
      "execution_count": 8,
      "outputs": [
        {
          "name": "stdout",
          "output_type": "stream",
          "text": [
            "7\n"
          ]
        },
        {
          "output_type": "execute_result",
          "data": {
            "text/plain": [
              "2.092857142857143"
            ]
          },
          "metadata": {},
          "execution_count": 8
        }
      ]
    },
    {
      "cell_type": "code",
      "source": [
        "def merge_lists(list1, list2):\n",
        "    # Initialize an empty list to store the merged result\n",
        "    merged_list = []\n",
        "\n",
        "    # Append elements from the first list to the merged list\n",
        "    for element in list1:\n",
        "        merged_list.append(element)\n",
        "\n",
        "    # Append elements from the second list to the merged list\n",
        "    for element in list2:\n",
        "        merged_list.append(element)\n",
        "\n",
        "    return merged_list\n",
        "\n",
        "# Example lists\n",
        "list1 = [3, 1, 4]\n",
        "list2 = [2, 5, 0]\n",
        "\n",
        "# Merge the lists\n",
        "merged_list = merge_lists(list1, list2)\n",
        "print(\"Merged list:\", merged_list)  # Output: [3, 1, 4, 2, 5, 0]\n",
        "\n"
      ],
      "metadata": {
        "id": "2LHQu2ntHb_d"
      },
      "execution_count": null,
      "outputs": []
    },
    {
      "cell_type": "code",
      "source": [
        "def sum_even_and_odd(numbers):\n",
        "    sum_even = 0\n",
        "    sum_odd = 0\n",
        "\n",
        "    for num in numbers:\n",
        "        if num % 2 == 0:\n",
        "            sum_even += num\n",
        "        else:\n",
        "            sum_odd += num\n",
        "\n",
        "    return sum_even, sum_odd\n",
        "\n",
        "# Example usage:\n",
        "numbers = [1, 2, 3, 4, 5, 6, 7, 8, 9, 10]\n",
        "even_sum, odd_sum = sum_even_and_odd(numbers)\n",
        "\n",
        "print(f\"Sum of even numbers: {even_sum}\")\n",
        "print(f\"Sum of odd numbers: {odd_sum}\")\n"
      ],
      "metadata": {
        "colab": {
          "base_uri": "https://localhost:8080/"
        },
        "id": "RQb2pQ5vHlk9",
        "outputId": "5c9cb867-2e88-4610-e7d2-61e8bf2d6c9d"
      },
      "execution_count": 10,
      "outputs": [
        {
          "output_type": "stream",
          "name": "stdout",
          "text": [
            "Sum of even numbers: 30\n",
            "Sum of odd numbers: 25\n"
          ]
        }
      ]
    },
    {
      "cell_type": "code",
      "source": [
        "def count_vowels_and_consonants(s):\n",
        "    vowels = 'aeiouAEIOU'\n",
        "    consonants_count = 0\n",
        "    vowels_count = 0\n",
        "\n",
        "    for char in s:\n",
        "        if char in vowels:\n",
        "            vowels_count += 1\n",
        "        elif char.isalpha():  # check if character is a letter but not a vowel\n",
        "            consonants_count += 1\n",
        "\n",
        "    return vowels_count, consonants_count\n",
        "\n",
        "s = input(\"Enter a string: \")\n",
        "\n",
        "# Call the function and store the returned tuple\n",
        "vowels_count, consonants_count = count_vowels_and_consonants(s)\n",
        "\n",
        "# Print the counts\n",
        "print(f\"Number of vowels count: {vowels_count}\")\n",
        "print(f\"Number of consonants: {consonants_count}\")\n"
      ],
      "metadata": {
        "id": "0c736CYEHz9o"
      },
      "execution_count": null,
      "outputs": []
    },
    {
      "cell_type": "code",
      "source": [
        "def gcd_calculation(a,b):\n",
        "  if b==0:\n",
        "    return a\n",
        "  else:\n",
        "    return gcd_calculation(b,a%b)\n",
        "a=int(input())\n",
        "b=int(input())\n",
        "print(gcd_calculation(a,b))"
      ],
      "metadata": {
        "colab": {
          "base_uri": "https://localhost:8080/"
        },
        "id": "z_h7kCdnIAjK",
        "outputId": "77286ef5-87c6-46e1-84fa-bbe1bfc0eda3"
      },
      "execution_count": 11,
      "outputs": [
        {
          "output_type": "stream",
          "name": "stdout",
          "text": [
            "12\n",
            "24\n",
            "12\n"
          ]
        }
      ]
    }
  ]
}